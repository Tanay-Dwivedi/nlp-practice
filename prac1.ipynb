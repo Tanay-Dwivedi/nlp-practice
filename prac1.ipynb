{
 "cells": [
  {
   "cell_type": "markdown",
   "id": "1d5a1c96-08c3-4a15-b35c-0448a72c20a0",
   "metadata": {},
   "source": [
    "## NLP Practice 1"
   ]
  },
  {
   "cell_type": "code",
   "execution_count": null,
   "id": "b54bc937-44f2-440d-b248-97a6bd47fbf0",
   "metadata": {},
   "outputs": [],
   "source": []
  }
 ],
 "metadata": {
  "kernelspec": {
   "display_name": "Python 3 (ipykernel)",
   "language": "python",
   "name": "python3"
  },
  "language_info": {
   "codemirror_mode": {
    "name": "ipython",
    "version": 3
   },
   "file_extension": ".py",
   "mimetype": "text/x-python",
   "name": "python",
   "nbconvert_exporter": "python",
   "pygments_lexer": "ipython3",
   "version": "3.12.1"
  }
 },
 "nbformat": 4,
 "nbformat_minor": 5
}
